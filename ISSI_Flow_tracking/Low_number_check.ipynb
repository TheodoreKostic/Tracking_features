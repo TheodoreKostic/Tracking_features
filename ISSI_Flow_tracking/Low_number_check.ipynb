{
 "cells": [
  {
   "cell_type": "code",
   "execution_count": 1,
   "id": "5b2c8a44-826e-45ec-bd96-199e46c3cf91",
   "metadata": {},
   "outputs": [],
   "source": [
    "import numpy as np \n",
    "import matplotlib.pyplot as plt \n",
    "import h5py\n",
    "import sys\n",
    "import os\n",
    "import pyflct\n",
    "from scipy.stats import pearsonr\n",
    "\n",
    "# We need this to navigate through our data\n",
    "import muram \n",
    "\n",
    "# Input/output\n",
    "from astropy.io import fits"
   ]
  },
  {
   "cell_type": "code",
   "execution_count": 2,
   "id": "7959c3ed-1178-4e25-86d6-0f1f86026183",
   "metadata": {},
   "outputs": [
    {
     "name": "stdout",
     "output_type": "stream",
     "text": [
      "How many files are in directory: 361\n",
      "(11, 1536, 1536)\n"
     ]
    }
   ],
   "source": [
    "# We should import all tau_slices at Tau = 1 and see how flow tracking behaves for this data\n",
    "# Initializing list of names of all the files\n",
    "filenames = []\n",
    "\n",
    "# Retreiving only numerical files\n",
    "for file in sorted(os.listdir (os.getcwd())):\n",
    "\tif file.startswith(\"tau_slice\"):\n",
    "\t\t#print (file)\n",
    "\t\tfilenames.append(file)\n",
    "print (\"How many files are in directory: {}\".format(len(filenames)))\n",
    "\n",
    "# Setting the new array length as the number of tau slices\n",
    "NT = len(filenames) # timeseries\n",
    "\n",
    "iter = 50\n",
    "level = 1.0\n",
    "tempfile = muram.MuramTauSlice('', iter, level)\n",
    "# Let's print the shape of our file(s):\n",
    "print(np.shape(tempfile))\n",
    "\n",
    "NP, NX, NY = np.shape(tempfile) # parameters, x, y\n",
    "#T_series = np.zeros([NX, NY])\n",
    "T_array = []\n",
    "Bz_array = []\n",
    "Vx_array = []\n",
    "Vy_array = []\n",
    "# To make sure we are using the temperature\n",
    "#plt.imshow(tempfile[8].T, origin='lower',vmin=5500,vmax=8000)\n",
    "\n",
    "# Looping through all the slices\n",
    "test_range = 5\n",
    "for iter in range(test_range): \n",
    "\ttest = filenames[iter]\n",
    "\t#print(test)\n",
    "\tdata_full = np.fromfile(test, dtype=\"float32\")\n",
    "\tdata = data_full[4:].reshape(11, 1536, 1536)\n",
    "\tT = data[8,:,:]\n",
    "\tBz = data[7,:,:]\n",
    "\tVx = data[1,:,:]\n",
    "\tVy = data[2,:,:]\n",
    "\tVx_array.append(Vx)\n",
    "\tVy_array.append(Vy)\n",
    "\tT_array.append(T)\n",
    "\tBz_array.append(Bz)\n",
    "\t\n",
    "\t\n",
    "# Kada se traze brzine, pre nego sto se trazi korelacija, nadjimo nacin da vizualizujemo ono sto dobijamo\n",
    "# i vidimo da kakve su mape brzine, da li su granule ok itd.\n",
    "\n",
    "# For easier further use we will write the data out in a fits file\n",
    "# that shall be available to users\n",
    "\n",
    "T_array = np.asarray(T_array)\n",
    "Bz_array = np.asarray(Bz_array)\n",
    "Vx_array = np.asarray(Vx_array)\n",
    "Vy_array = np.asarray(Vy_array)\n",
    "\n",
    "Temp = fits.PrimaryHDU(T_array)\n",
    "Bz = fits.ImageHDU(Bz_array)\n",
    "Vx = fits.ImageHDU(Vx_array)\n",
    "Vy = fits.ImageHDU(Vy_array)\n",
    "data_out = fits.HDUList([Temp, Bz, Vx, Vy])\n",
    "\n",
    "# Write the fits file\n",
    "data_out.writeto(\"ISSI_2D_Tau=1.0-\" + str(test_range) + \"slices.fits\", overwrite = True)"
   ]
  },
  {
   "cell_type": "code",
   "execution_count": 3,
   "id": "a62e6e78-fd10-4d25-b4e4-bd73509c3ad1",
   "metadata": {},
   "outputs": [],
   "source": [
    "Temp = fits.open(\"ISSI_2D_Tau=1.0-\" + str(test_range) + \"slices.fits\")[0].data\n",
    "Bz = fits.open(\"ISSI_2D_Tau=1.0-\" + str(test_range) + \"slices.fits\")[1].data\n",
    "Vx = fits.open(\"ISSI_2D_Tau=1.0-\" + str(test_range) + \"slices.fits\")[2].data\n",
    "Vy = fits.open(\"ISSI_2D_Tau=1.0-\" + str(test_range) + \"slices.fits\")[3].data"
   ]
  },
  {
   "cell_type": "code",
   "execution_count": 4,
   "id": "309873f5-eac8-4834-921c-dbfc913d64d6",
   "metadata": {},
   "outputs": [],
   "source": [
    "# Let's do basic comparison of \"real\" velocities and the ones that FLCT gives\n",
    "# between every 2 adjacent files \n",
    "\n",
    "FWHM = 1200 # km\n",
    "delta_t = 10 # sec\n",
    "pixelsize = 16 #\n",
    "sigma_pyflct = FWHM/pixelsize/2.35"
   ]
  },
  {
   "cell_type": "code",
   "execution_count": 5,
   "id": "1ddb8386-f271-440e-98ef-48453dbd1201",
   "metadata": {},
   "outputs": [],
   "source": [
    "Vx_mean = []\n",
    "Vy_mean = []\n",
    "for j in range(1, len(Vx)):\n",
    "    vx = (Vx[j-1] + Vx[j])/2/1e5\n",
    "    Vx_mean.append(vx)\n",
    "    vy = (Vy[j-1] + Vy[j])/2/1e5\n",
    "    Vy_mean.append(vy)"
   ]
  },
  {
   "cell_type": "code",
   "execution_count": 6,
   "id": "a165386e-a574-48e5-b4c8-00eda3b7b23d",
   "metadata": {},
   "outputs": [
    {
     "name": "stdout",
     "output_type": "stream",
     "text": [
      "Length of Vel_x_T: 4\n"
     ]
    }
   ],
   "source": [
    "# Now, we implement FLCT on our Temp array\n",
    "Vel_x_T = []\n",
    "Vel_y_T = []\n",
    "Vm_T = []\n",
    "for j in range(1, len(Temp)):\n",
    "    vel_x, vel_y, vm = pyflct.flct(Temp[j-1], Temp[j], delta_t, pixelsize, sigma_pyflct)\n",
    "    Vel_x_T.append(vel_x)\n",
    "    Vel_y_T.append(vel_y)\n",
    "    Vm_T.append(vm)\n",
    "\n",
    "print(\"Length of Vel_x_T: {}\".format(len(Vel_x_T)))"
   ]
  },
  {
   "cell_type": "code",
   "execution_count": null,
   "id": "c65e672f-3234-4162-ab52-1e4c2f80f5cf",
   "metadata": {},
   "outputs": [],
   "source": [
    "#Now for Bz array\n",
    "Vel_x_Bz = []\n",
    "Vel_y_Bz = []\n",
    "Vm_Bz = []\n",
    "for j in range(1, len(Bz)):\n",
    "    vel_x, vel_y, vm = pyflct.flct(Bz[j-1], Bz[j], delta_t, pixelsize, sigma_pyflct)\n",
    "    Vel_x_Bz.append(vel_x)\n",
    "    Vel_y_Bz.append(vel_y)\n",
    "    Vm_Bz.append(vm)\n",
    "\n",
    "print(\"Length of Vel_x_Bz: {}\".format(len(Vel_x_Bz)))"
   ]
  },
  {
   "cell_type": "code",
   "execution_count": 7,
   "id": "4b9ad3a2-87f7-45d6-b8cb-53009949b319",
   "metadata": {},
   "outputs": [],
   "source": [
    "# And we can finally write them each to separate fits files\n",
    "Vel_x_T = np.asarray(Vel_x_T)\n",
    "Vel_y_T = np.asarray(Vel_y_T)\n",
    "Vm_T = np.asarray(Vm_T)"
   ]
  },
  {
   "cell_type": "code",
   "execution_count": 8,
   "id": "ff71fb56-c3fc-4957-add8-092556ce5025",
   "metadata": {},
   "outputs": [],
   "source": [
    "T_x = fits.PrimaryHDU(Vel_x_T)\n",
    "T_y = fits.ImageHDU(Vel_y_T)\n",
    "T_v = fits.ImageHDU(Vm_T)\n",
    "T_flct = fits.HDUList([T_x, T_y, T_v])\n",
    "T_flct.writeto(\"ISSI_FLCT_temperature.fits\", overwrite = True)"
   ]
  },
  {
   "cell_type": "code",
   "execution_count": 9,
   "id": "48b728af-1c7f-44be-892f-9582419bc899",
   "metadata": {},
   "outputs": [],
   "source": [
    "# FLTC-derived velocities based on temperature\n",
    "Vel_x_T = fits.open(\"ISSI_FLCT_temperature.fits\")[0].data\n",
    "Vel_y_T = fits.open(\"ISSI_FLCT_temperature.fits\")[1].data\n",
    "Vm_T = fits.open(\"ISSI_FLCT_temperature.fits\")[2].data"
   ]
  },
  {
   "cell_type": "code",
   "execution_count": 15,
   "id": "378f7614-e80e-44ec-998d-4b5db89c321d",
   "metadata": {},
   "outputs": [],
   "source": [
    "# Averaged, i.e mean Vx and Vy\n",
    "Vx_mean = []\n",
    "Vy_mean = []\n",
    "for j in range(1, len(Vx)):\n",
    "    vx = (Vx[j-1] + Vx[j])/2/1e5\n",
    "    Vx_mean.append(vx)\n",
    "    vy = (Vy[j-1] + Vy[j])/2/1e5\n",
    "    Vy_mean.append(vy)\n",
    "\n",
    "Vx_mean = np.asarray(Vx_mean)\n",
    "Vy_mean = np.asarray(Vy_mean)"
   ]
  },
  {
   "cell_type": "code",
   "execution_count": 16,
   "id": "991a2fee-4419-4d61-95bf-01318c2ed52f",
   "metadata": {},
   "outputs": [
    {
     "name": "stdout",
     "output_type": "stream",
     "text": [
      "Pearson for x:PearsonRResult(statistic=-0.00019815007275990077, pvalue=0.7608548927215255)\n",
      "Pearson for y:PearsonRResult(statistic=-0.023474028142591787, pvalue=9.254199301579722e-285)\n",
      "Pearson for x:PearsonRResult(statistic=0.0006671846209057818, pvalue=0.3054598559148929)\n",
      "Pearson for y:PearsonRResult(statistic=-0.026711942737047037, pvalue=0.0)\n",
      "Pearson for x:PearsonRResult(statistic=0.005018844145322075, pvalue=1.2681827512518003e-14)\n",
      "Pearson for y:PearsonRResult(statistic=-0.03046514825641028, pvalue=0.0)\n"
     ]
    }
   ],
   "source": [
    "# Pearson's correlation coefficients\n",
    "px_1 = []\n",
    "py_1 = []\n",
    "\n",
    "# This is for show only\n",
    "# It will be updated to run more smoothly\n",
    "\n",
    "for j in range(1, len(Vel_x_T)):\n",
    "    p_x = pearsonr(Vx_mean[j-1].flatten(), Vel_x_T[j-1].flatten())\n",
    "    px_1.append(p_x)\n",
    "    p_y = pearsonr(Vy_mean[j-1].flatten(), Vel_y_T[j-1].flatten())\n",
    "    py_1.append(p_y)\n",
    "    print(\"Pearson for x:{}\".format(p_x))\n",
    "    print(\"Pearson for y:{}\".format(p_y))"
   ]
  },
  {
   "cell_type": "code",
   "execution_count": 17,
   "id": "b619691c-44db-42f3-a328-44f7385408ec",
   "metadata": {},
   "outputs": [
    {
     "name": "stderr",
     "output_type": "stream",
     "text": [
      "<ipython-input-17-77fe13aa9e96>:3: UserWarning: No data for colormapping provided via 'c'. Parameters 'cmap' will be ignored\n",
      "  ax.scatter(Vx_mean, Vel_x_T, s=25, cmap=plt.cm.coolwarm, zorder=10)\n"
     ]
    },
    {
     "data": {
      "text/plain": [
       "(-660.6423664126203, 1725.7329964279468)"
      ]
     },
     "execution_count": 17,
     "metadata": {},
     "output_type": "execute_result"
    },
    {
     "data": {
      "image/png": "[encoded data removed]",
      "text/plain": [
       "<Figure size 432x288 with 1 Axes>"
      ]
     },
     "metadata": {
      "needs_background": "light"
     },
     "output_type": "display_data"
    }
   ],
   "source": [
    "# Plotting\n",
    "fig, ax = plt.subplots()\n",
    "ax.scatter(Vx_mean, Vel_x_T, s=25, cmap=plt.cm.coolwarm, zorder=10)\n",
    "lims = [\n",
    "    np.min([ax.get_xlim(), ax.get_ylim()]),  # min of both axes\n",
    "    np.max([ax.get_xlim(), ax.get_ylim()]),  # max of both axes\n",
    "]\n",
    "\n",
    "# now plot both limits against eachother\n",
    "ax.plot(lims, lims, 'k-', alpha=0.75, zorder=0)\n",
    "ax.set_aspect('equal')\n",
    "ax.set_xlim(lims)\n",
    "ax.set_ylim(lims)"
   ]
  },
  {
   "cell_type": "markdown",
   "id": "c5a113dd-712b-43ed-b38a-9e97c32d7522",
   "metadata": {},
   "source": [
    "<p style=\"color:black;font-family:Sans-serif\">\n",
    "    This is preliminary plot showing the correlation between mean x-component of velocity and x-component of\n",
    "    velocity that is result of Fourier Local Correlation Tracking based on the temperature provided in simulations.\n",
    "    The example in question was aranged upon just 4 slices at $\\tau$ = 1, as an indicator of what to expect.\n",
    "</p>"
   ]
  },
  {
   "cell_type": "code",
   "execution_count": null,
   "id": "935026d2-719b-4fdd-a6a9-4b71e2b6dbdf",
   "metadata": {},
   "outputs": [],
   "source": []
  }
 ],
 "metadata": {
  "kernelspec": {
   "display_name": "Python 3",
   "language": "python",
   "name": "python3"
  },
  "language_info": {
   "codemirror_mode": {
    "name": "ipython",
    "version": 3
   },
   "file_extension": ".py",
   "mimetype": "text/x-python",
   "name": "python",
   "nbconvert_exporter": "python",
   "pygments_lexer": "ipython3",
   "version": "3.9.18"
  }
 },
 "nbformat": 4,
 "nbformat_minor": 5
}
