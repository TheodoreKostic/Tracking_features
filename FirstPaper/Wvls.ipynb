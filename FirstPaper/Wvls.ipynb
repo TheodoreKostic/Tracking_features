{
 "cells": [
  {
   "cell_type": "code",
   "execution_count": 1,
   "id": "043c9e4b-037b-4af1-9ef1-d1831f3ada81",
   "metadata": {},
   "outputs": [],
   "source": [
    "import numpy as np\n",
    "import matplotlib.pyplot as plt\n",
    "import muram as mio\n",
    "from astropy.io import fits\n",
    "import pyflct"
   ]
  },
  {
   "cell_type": "code",
   "execution_count": 2,
   "id": "e33a2fc7-16ca-4a5d-9bde-6d31b0aacdb1",
   "metadata": {},
   "outputs": [],
   "source": [
    "from matplotlib import font_manager\n",
    "import matplotlib as mpl\n",
    "font_path = '/home/flow/.fonts/cmunrm.ttf'  # Your font path goes here\n",
    "#font_path = '/usr/share/fonts/opentype/urw-base35/NimbusRoman-Italic.otf'\n",
    "font_manager.fontManager.addfont(font_path)\n",
    "prop = font_manager.FontProperties(fname=font_path)\n",
    "mpl.rcParams[\"font.size\"] = 12\n",
    "plt.rcParams['font.family'] = 'sans-serif'\n",
    "plt.rcParams['font.sans-serif'] = prop.get_name()\n",
    "plt.rc('axes', unicode_minus=False)"
   ]
  },
  {
   "cell_type": "markdown",
   "id": "a2f789db-fc5b-414b-bd1f-764a34f23f1d",
   "metadata": {},
   "source": [
    "<h1>17. 10. 2024.</h1>"
   ]
  },
  {
   "cell_type": "code",
   "execution_count": 3,
   "id": "f16a2bd9-ae82-4553-a05b-f3d54cd8fad1",
   "metadata": {},
   "outputs": [],
   "source": [
    "cube0 = fits.open(\"0_lwsynth_100.0.fits\")[0].data\n",
    "cube1 = fits.open(\"150_lwsynth_100.0.fits\")[0].data"
   ]
  },
  {
   "cell_type": "code",
   "execution_count": 4,
   "id": "549f2288-887c-4344-b102-b3c8790355f1",
   "metadata": {},
   "outputs": [],
   "source": [
    "delta_t = 10.0 * 3\n",
    "pixelsize = 16.0\n",
    "sigma = 1200.0 / 1.665 / pixelsize"
   ]
  },
  {
   "cell_type": "code",
   "execution_count": 5,
   "id": "dad21050-09e7-4d23-bb3d-6ade526753d1",
   "metadata": {},
   "outputs": [
    {
     "data": {
      "text/plain": [
       "(1536, 1536, 1, 102)"
      ]
     },
     "execution_count": 5,
     "metadata": {},
     "output_type": "execute_result"
    }
   ],
   "source": [
    "np.shape(cube0)"
   ]
  },
  {
   "cell_type": "code",
   "execution_count": 6,
   "id": "338eed05-91df-4276-888a-52bf34bdc496",
   "metadata": {},
   "outputs": [],
   "source": [
    "cb0 = fits.open(\"0_lwsynth_100.0.fits\")[1].data\n",
    "cb1 = fits.open(\"150_lwsynth_100.0.fits\")[1].data"
   ]
  },
  {
   "cell_type": "code",
   "execution_count": 7,
   "id": "5795e509-ab05-4663-9ceb-c238c4b4e21e",
   "metadata": {},
   "outputs": [
    {
     "name": "stdout",
     "output_type": "stream",
     "text": [
      "[ 100.      200.      300.      400.      500.      600.      700.\n",
      "  800.      900.     1000.     1100.     1200.     1300.     1400.\n",
      " 1500.     1600.     1700.     1800.     1900.     2000.     2100.\n",
      "  525.      525.0005  525.001   525.0015  525.002   525.0025  525.003\n",
      "  525.0035  525.004   525.0045  525.005   525.0055  525.006   525.0065\n",
      "  525.007   525.0075  525.008   525.0085  525.009   525.0095  525.01\n",
      "  525.0105  525.011   525.0115  525.012   525.0125  525.013   525.0135\n",
      "  525.014   525.0145  525.015   525.0155  525.016   525.0165  525.017\n",
      "  525.0175  525.018   525.0185  525.019   525.0195  525.02    525.0205\n",
      "  525.021   525.0215  525.022   525.0225  525.023   525.0235  525.024\n",
      "  525.0245  525.025   525.0255  525.026   525.0265  525.027   525.0275\n",
      "  525.028   525.0285  525.029   525.0295  525.03    525.0305  525.031\n",
      "  525.0315  525.032   525.0325  525.033   525.0335  525.034   525.0345\n",
      "  525.035   525.0355  525.036   525.0365  525.037   525.0375  525.038\n",
      "  525.0385  525.039   525.0395  525.04  ]\n"
     ]
    }
   ],
   "source": [
    "print(cb0)"
   ]
  },
  {
   "cell_type": "code",
   "execution_count": 8,
   "id": "9a3dc11d-75f2-4b21-b365-16c5d78e98ad",
   "metadata": {},
   "outputs": [
    {
     "name": "stdout",
     "output_type": "stream",
     "text": [
      "[2.13831538e-19 2.58169860e-11 7.60927471e-09 2.05906411e-08\n",
      " 2.83626945e-08 3.33335891e-08 3.60825189e-08 3.71997129e-08\n",
      " 3.74386439e-08 3.70582187e-08 3.63260398e-08 3.55661213e-08\n",
      " 3.48407586e-08 3.41960419e-08 3.37276386e-08 3.24582140e-08\n",
      " 3.01268309e-08 2.76137715e-08 2.53410840e-08 2.33268870e-08\n",
      " 2.15464726e-08 2.98399624e-08 2.98384325e-08 2.98367894e-08\n",
      " 2.98350217e-08 2.98331165e-08 2.98310593e-08 2.98288333e-08\n",
      " 2.98264192e-08 2.98237951e-08 2.98209354e-08 2.98178107e-08\n",
      " 2.98143869e-08 2.98106238e-08 2.98064712e-08 2.98018619e-08\n",
      " 2.97966965e-08 2.97908145e-08 2.97839501e-08 2.97756819e-08\n",
      " 2.97653987e-08 2.97523329e-08 2.97357306e-08 2.97152564e-08\n",
      " 2.96915248e-08 2.96663504e-08 2.96419741e-08 2.96192327e-08\n",
      " 2.95956678e-08 2.95645620e-08 2.95145104e-08 2.94270860e-08\n",
      " 2.92705392e-08 2.89904673e-08 2.85030863e-08 2.77012344e-08\n",
      " 2.64796966e-08 2.47647431e-08 2.25118134e-08 1.96857427e-08\n",
      " 1.63525234e-08 1.28970787e-08 9.98820056e-09 8.03784158e-09\n",
      " 6.90694634e-09 6.26694475e-09 5.90093284e-09 5.70855954e-09\n",
      " 5.65584742e-09 5.76400862e-09 6.11268256e-09 6.84197196e-09\n",
      " 8.19390210e-09 1.05500667e-08 1.41110980e-08 1.83487084e-08\n",
      " 2.22545152e-08 2.51701185e-08 2.70514842e-08 2.81640668e-08\n",
      " 2.88017862e-08 2.91700212e-08 2.93873979e-08 2.95175407e-08\n",
      " 2.95959493e-08 2.96443995e-08 2.96763626e-08 2.96995174e-08\n",
      " 2.97177549e-08 2.97328938e-08 2.97458060e-08 2.97569755e-08\n",
      " 2.97667243e-08 2.97752925e-08 2.97828685e-08 2.97896034e-08\n",
      " 2.97956201e-08 2.98010194e-08 2.98058846e-08 2.98102854e-08\n",
      " 2.98142802e-08 2.98179184e-08]\n"
     ]
    }
   ],
   "source": [
    "print(cube0[0][0][0][:])"
   ]
  },
  {
   "cell_type": "code",
   "execution_count": 9,
   "id": "00451928-4c1a-472d-ba6e-fa2d467ae682",
   "metadata": {},
   "outputs": [
    {
     "name": "stdout",
     "output_type": "stream",
     "text": [
      "2.1994011943818395e-08\n"
     ]
    }
   ],
   "source": [
    "print(cube1[0][0][0][20])"
   ]
  },
  {
   "cell_type": "code",
   "execution_count": 10,
   "id": "eb7e9879-3526-4b4f-ab23-b0077e67b1b7",
   "metadata": {},
   "outputs": [],
   "source": [
    "cube = fits.open(\"0_lwsynth_100.0.fits\")[0]"
   ]
  },
  {
   "cell_type": "code",
   "execution_count": 11,
   "id": "6982b3fa-369d-439b-8e02-bf34a45942c9",
   "metadata": {},
   "outputs": [],
   "source": [
    "image0 = cube0[:,:,0,2]\n",
    "image1 = cube1[:,:,0,2]\n",
    "vel_x300nm, vel_y300nm, vm300nm = pyflct.flct(image0, image1, delta_t, pixelsize, sigma, quiet = True)"
   ]
  },
  {
   "cell_type": "code",
   "execution_count": 12,
   "id": "4a688b3a-3a2e-42dd-8d30-c613103bb36b",
   "metadata": {},
   "outputs": [],
   "source": [
    "image2 = cube0[:,:,0,3]\n",
    "image3 = cube1[:,:,0,3]\n",
    "vel_x400nm, vel_y400nm, vm400nm = pyflct.flct(image2, image3, delta_t, pixelsize, sigma, quiet = True)"
   ]
  },
  {
   "cell_type": "code",
   "execution_count": 13,
   "id": "8bf97f1d-fabb-4bd3-94dc-798d24d5da6a",
   "metadata": {},
   "outputs": [],
   "source": [
    "image4 = cube0[:,:,0,4]\n",
    "image5 = cube1[:,:,0,4]\n",
    "vel_x500nm, vel_y500nm, vm500nm = pyflct.flct(image4, image5, delta_t, pixelsize, sigma, quiet = True)"
   ]
  },
  {
   "cell_type": "code",
   "execution_count": 14,
   "id": "08bf791f-6db9-4775-a5f5-ab15da9ac670",
   "metadata": {},
   "outputs": [],
   "source": [
    "image6 = cube0[:,:,0,5]\n",
    "image7 = cube1[:,:,0,5]\n",
    "vel_x600nm, vel_y600nm, vm600nm = pyflct.flct(image6, image7, delta_t, pixelsize, sigma, quiet = True)"
   ]
  },
  {
   "cell_type": "code",
   "execution_count": 15,
   "id": "013e733c-e6ca-448b-9dad-851a326b7660",
   "metadata": {},
   "outputs": [],
   "source": [
    "image8 = cube0[:,:,0,6]\n",
    "image9 = cube1[:,:,0,6]\n",
    "vel_x700nm, vel_y700nm, vm700nm = pyflct.flct(image8, image9, delta_t, pixelsize, sigma, quiet = True)"
   ]
  },
  {
   "cell_type": "code",
   "execution_count": 16,
   "id": "06a2ddaa-48e4-44bf-959a-94e419db9cf3",
   "metadata": {},
   "outputs": [],
   "source": [
    "image10 = cube0[:,:,0,7]\n",
    "image11 = cube1[:,:,0,7]\n",
    "vel_x800nm, vel_y800nm, vm800nm = pyflct.flct(image10, image11, delta_t, pixelsize, sigma, quiet = True)"
   ]
  },
  {
   "cell_type": "code",
   "execution_count": 17,
   "id": "ca984075-ffd5-4baa-8dce-a02d065e4d39",
   "metadata": {},
   "outputs": [],
   "source": [
    "Vx = fits.open(\"Velocities_TAU_0_1.fits\")[1].data # Vy from Velocities.fits as originally thought\n",
    "Vy = fits.open(\"Velocities_TAU_0_1.fits\")[0].data # Vx from Velocities.fits as originally thought\n",
    "Vx = Vx.transpose(0, 2, 1)\n",
    "Vy = Vy.transpose(0, 2, 1)"
   ]
  },
  {
   "cell_type": "code",
   "execution_count": 18,
   "id": "e298205d-f5b5-4ca7-b03a-b3f53bff4de7",
   "metadata": {},
   "outputs": [],
   "source": [
    "Vx_1 = Vx[0]/1E5\n",
    "Vx_2 = Vx[3]/1E5\n",
    "\n",
    "Vy_1 = Vy[0]/1E5\n",
    "Vy_2 = Vy[3]/1E5"
   ]
  },
  {
   "cell_type": "code",
   "execution_count": 19,
   "id": "dccef7cc-00e2-4a9b-8cb3-dcc60802219a",
   "metadata": {},
   "outputs": [],
   "source": [
    "from scipy.ndimage import gaussian_filter\n",
    "from scipy.stats import pearsonr"
   ]
  },
  {
   "cell_type": "code",
   "execution_count": 20,
   "id": "30426e9b-0c2b-4a45-8a8a-909cff45cc2b",
   "metadata": {},
   "outputs": [],
   "source": [
    "Vx_bin = (Vx_1 + Vx_2)/2\n",
    "Vy_bin = (Vy_1 + Vy_2)/2"
   ]
  },
  {
   "cell_type": "code",
   "execution_count": 21,
   "id": "3a3f1d49-0631-4b2c-93bd-9b55657b5bb3",
   "metadata": {},
   "outputs": [],
   "source": [
    "Vx_filtered35 = gaussian_filter(Vx_bin, 35, mode = \"wrap\")\n",
    "Vy_filtered35 = gaussian_filter(Vy_bin, 35, mode = \"wrap\")"
   ]
  },
  {
   "cell_type": "code",
   "execution_count": 22,
   "id": "6309c689-fa5d-47c7-a42a-3696dd63f1ff",
   "metadata": {},
   "outputs": [
    {
     "name": "stdout",
     "output_type": "stream",
     "text": [
      "PearsonRResult(statistic=0.7191899377896633, pvalue=0.0)\n"
     ]
    }
   ],
   "source": [
    "r_x300 = pearsonr(vel_x300nm.flatten(),Vx_filtered35.flatten())\n",
    "print(r_x300)"
   ]
  },
  {
   "cell_type": "code",
   "execution_count": 23,
   "id": "a157e3c2-cc5c-4eb6-982e-a26c9ffeaeea",
   "metadata": {},
   "outputs": [
    {
     "name": "stdout",
     "output_type": "stream",
     "text": [
      "PearsonRResult(statistic=0.6927761913098536, pvalue=0.0)\n"
     ]
    }
   ],
   "source": [
    "r_y300 = pearsonr(vel_y300nm.flatten(),Vy_filtered35.flatten())\n",
    "print(r_y300)"
   ]
  },
  {
   "cell_type": "code",
   "execution_count": 24,
   "id": "d50b766c-b188-4eaa-afbf-0e28cf239ccf",
   "metadata": {},
   "outputs": [
    {
     "name": "stdout",
     "output_type": "stream",
     "text": [
      "PearsonRResult(statistic=0.7221126860641904, pvalue=0.0)\n"
     ]
    }
   ],
   "source": [
    "r_x400 = pearsonr(vel_x400nm.flatten(),Vx_filtered35.flatten())\n",
    "print(r_x400)"
   ]
  },
  {
   "cell_type": "code",
   "execution_count": 25,
   "id": "0a03a350-730a-4bd8-8f7f-19c5ac22fb51",
   "metadata": {},
   "outputs": [
    {
     "name": "stdout",
     "output_type": "stream",
     "text": [
      "PearsonRResult(statistic=0.6900684147668841, pvalue=0.0)\n"
     ]
    }
   ],
   "source": [
    "r_y400 = pearsonr(vel_y400nm.flatten(),Vy_filtered35.flatten())\n",
    "print(r_y400)"
   ]
  },
  {
   "cell_type": "code",
   "execution_count": 26,
   "id": "5ce43378-ad67-443b-acaa-8056910057b4",
   "metadata": {},
   "outputs": [
    {
     "name": "stdout",
     "output_type": "stream",
     "text": [
      "PearsonRResult(statistic=0.7256778455440936, pvalue=0.0)\n"
     ]
    }
   ],
   "source": [
    "r_x500 = pearsonr(vel_x500nm.flatten(),Vx_filtered35.flatten())\n",
    "print(r_x500)"
   ]
  },
  {
   "cell_type": "code",
   "execution_count": 27,
   "id": "0776be09-fc10-4599-9a3c-f39bc50d07e9",
   "metadata": {},
   "outputs": [
    {
     "name": "stdout",
     "output_type": "stream",
     "text": [
      "PearsonRResult(statistic=0.6937335909861768, pvalue=0.0)\n"
     ]
    }
   ],
   "source": [
    "r_y500 = pearsonr(vel_y500nm.flatten(),Vy_filtered35.flatten())\n",
    "print(r_y500)"
   ]
  },
  {
   "cell_type": "code",
   "execution_count": 28,
   "id": "994453ea-c269-48f9-abe6-6e2dcd816689",
   "metadata": {},
   "outputs": [
    {
     "name": "stdout",
     "output_type": "stream",
     "text": [
      "PearsonRResult(statistic=0.7235515224847354, pvalue=0.0)\n"
     ]
    }
   ],
   "source": [
    "r_x600 = pearsonr(vel_x600nm.flatten(),Vx_filtered35.flatten())\n",
    "print(r_x600)"
   ]
  },
  {
   "cell_type": "code",
   "execution_count": 29,
   "id": "3066df8a-297c-4278-8cdb-7f27374af1a3",
   "metadata": {},
   "outputs": [
    {
     "name": "stdout",
     "output_type": "stream",
     "text": [
      "PearsonRResult(statistic=0.691559117902435, pvalue=0.0)\n"
     ]
    }
   ],
   "source": [
    "r_y600 = pearsonr(vel_y600nm.flatten(),Vy_filtered35.flatten())\n",
    "print(r_y600)"
   ]
  },
  {
   "cell_type": "code",
   "execution_count": 30,
   "id": "7be859f7-201f-44fc-820c-a2f4220f332d",
   "metadata": {},
   "outputs": [
    {
     "name": "stdout",
     "output_type": "stream",
     "text": [
      "PearsonRResult(statistic=0.7178484508882204, pvalue=0.0)\n"
     ]
    }
   ],
   "source": [
    "r_x700 = pearsonr(vel_x700nm.flatten(),Vx_filtered35.flatten())\n",
    "print(r_x700)"
   ]
  },
  {
   "cell_type": "code",
   "execution_count": 31,
   "id": "ca593870-a31a-4b93-bbd9-d77cd5fe2a4e",
   "metadata": {},
   "outputs": [
    {
     "name": "stdout",
     "output_type": "stream",
     "text": [
      "PearsonRResult(statistic=0.6860710057999395, pvalue=0.0)\n"
     ]
    }
   ],
   "source": [
    "r_y700 = pearsonr(vel_y700nm.flatten(),Vy_filtered35.flatten())\n",
    "print(r_y700)"
   ]
  },
  {
   "cell_type": "code",
   "execution_count": 32,
   "id": "f64c5cbe-abca-48bf-b047-9957c668c0dc",
   "metadata": {},
   "outputs": [
    {
     "name": "stdout",
     "output_type": "stream",
     "text": [
      "PearsonRResult(statistic=0.7112454019561265, pvalue=0.0)\n"
     ]
    }
   ],
   "source": [
    "r_x800 = pearsonr(vel_x800nm.flatten(),Vx_filtered35.flatten())\n",
    "print(r_x800)"
   ]
  },
  {
   "cell_type": "code",
   "execution_count": 33,
   "id": "f8929bb9-99fd-46c2-8fbc-03fbb76fc59f",
   "metadata": {},
   "outputs": [
    {
     "name": "stdout",
     "output_type": "stream",
     "text": [
      "PearsonRResult(statistic=0.6800902342484083, pvalue=0.0)\n"
     ]
    }
   ],
   "source": [
    "r_y800 = pearsonr(vel_y800nm.flatten(),Vy_filtered35.flatten())\n",
    "print(r_y800)"
   ]
  },
  {
   "cell_type": "code",
   "execution_count": 34,
   "id": "57b53945-91ef-40a9-b25c-e2b27e53aaea",
   "metadata": {},
   "outputs": [
    {
     "data": {
      "image/png": "[encoded data removed]",
      "text/plain": [
       "<Figure size 800x400 with 1 Axes>"
      ]
     },
     "metadata": {},
     "output_type": "display_data"
    }
   ],
   "source": [
    "plt.figure(figsize = (8,4))\n",
    "niz = [r_x300[0], r_x400[0], r_x500[0], r_x600[0], r_x700[0], r_x800[0]]\n",
    "niz2 = [300, 400, 500, 600, 700, 800]\n",
    "plt.suptitle(\"Continuum intensity [Mattias] vs LW intensity\")\n",
    "plt.scatter(niz2, niz, color = \"red\")\n",
    "plt.ylabel(\"Pearson's coefficient for x-component\")\n",
    "plt.xlabel(\"$\\lambda$[nm]\")\n",
    "#m1, b1, *_ = linregress(Vx_FLCT_1200.flatten(), Vx_FLCT_T.flatten())\n",
    "#plt.axline(xy1=(0, b1), slope=m1, label=f'$y = {m1:.3f}x {b1:+.3f}$')\n",
    "#plt.legend()\n",
    "plt.tight_layout()\n",
    "plt.savefig(\"Kontinuum_vs_cont\", bbox_inches = 'tight', dpi = 300)"
   ]
  },
  {
   "cell_type": "code",
   "execution_count": 35,
   "id": "1a45d9c1-f797-4de1-9fea-336d48a484e2",
   "metadata": {},
   "outputs": [],
   "source": [
    "image12 = cube0[:,:,0,8]\n",
    "image13 = cube1[:,:,0,8]\n",
    "vel_x900nm, vel_y900nm, vm900nm = pyflct.flct(image12, image13, delta_t, pixelsize, sigma, quiet = True)"
   ]
  },
  {
   "cell_type": "code",
   "execution_count": 39,
   "id": "6a3dbafc-48cb-4b21-bd19-f8be804f35c0",
   "metadata": {},
   "outputs": [
    {
     "name": "stdout",
     "output_type": "stream",
     "text": [
      "PearsonRResult(statistic=0.7137774341189327, pvalue=0.0)\n"
     ]
    }
   ],
   "source": [
    "r_x900 = pearsonr(vel_x900nm.flatten(),Vx_filtered35.flatten())\n",
    "print(r_x900)"
   ]
  },
  {
   "cell_type": "code",
   "execution_count": 37,
   "id": "69988642-a653-4e9e-b0ed-bc46392eb4ec",
   "metadata": {},
   "outputs": [
    {
     "name": "stdout",
     "output_type": "stream",
     "text": [
      "PearsonRResult(statistic=0.6801676160793726, pvalue=0.0)\n"
     ]
    }
   ],
   "source": [
    "r_y900 = pearsonr(vel_y900nm.flatten(),Vy_filtered35.flatten())\n",
    "print(r_y900)"
   ]
  },
  {
   "cell_type": "code",
   "execution_count": 38,
   "id": "a6972883-f5fa-47a3-9cc2-481fc516f8fa",
   "metadata": {},
   "outputs": [],
   "source": [
    "image14 = cube0[:,:,0,9]\n",
    "image15 = cube1[:,:,0,9]\n",
    "vel_x1000nm, vel_y1000nm, vm1000nm = pyflct.flct(image14, image15, delta_t, pixelsize, sigma, quiet = True)"
   ]
  },
  {
   "cell_type": "code",
   "execution_count": 40,
   "id": "4f714813-78d4-44a2-9c69-2ce36dfcb083",
   "metadata": {},
   "outputs": [
    {
     "name": "stdout",
     "output_type": "stream",
     "text": [
      "PearsonRResult(statistic=0.7147260881180326, pvalue=0.0)\n"
     ]
    }
   ],
   "source": [
    "r_x1000 = pearsonr(vel_x1000nm.flatten(),Vx_filtered35.flatten())\n",
    "print(r_x1000)"
   ]
  },
  {
   "cell_type": "code",
   "execution_count": 41,
   "id": "531d729e-8c84-48c9-ad94-7415a40c28dd",
   "metadata": {},
   "outputs": [
    {
     "name": "stdout",
     "output_type": "stream",
     "text": [
      "PearsonRResult(statistic=0.6816081250156221, pvalue=0.0)\n"
     ]
    }
   ],
   "source": [
    "r_y1000 = pearsonr(vel_y1000nm.flatten(),Vy_filtered35.flatten())\n",
    "print(r_y1000)"
   ]
  },
  {
   "cell_type": "code",
   "execution_count": 42,
   "id": "3c05d7c4-4d36-43e3-8171-881c1f2195f6",
   "metadata": {},
   "outputs": [],
   "source": [
    "image16 = cube0[:,:,0,10]\n",
    "image17 = cube1[:,:,0,10]\n",
    "vel_x1100nm, vel_y1100nm, vm1100nm = pyflct.flct(image16, image17, delta_t, pixelsize, sigma, quiet = True)"
   ]
  },
  {
   "cell_type": "code",
   "execution_count": 43,
   "id": "b5e8d1c6-7ffa-4437-8a26-2930b4d26ef0",
   "metadata": {},
   "outputs": [
    {
     "name": "stdout",
     "output_type": "stream",
     "text": [
      "PearsonRResult(statistic=0.7169666779370003, pvalue=0.0)\n"
     ]
    }
   ],
   "source": [
    "r_x1100 = pearsonr(vel_x1100nm.flatten(),Vx_filtered35.flatten())\n",
    "print(r_x1100)"
   ]
  },
  {
   "cell_type": "code",
   "execution_count": 44,
   "id": "c7207064-68db-4564-8d90-fcc12fc89cf3",
   "metadata": {},
   "outputs": [
    {
     "name": "stdout",
     "output_type": "stream",
     "text": [
      "PearsonRResult(statistic=0.685055476534858, pvalue=0.0)\n"
     ]
    }
   ],
   "source": [
    "r_y1100 = pearsonr(vel_y1100nm.flatten(),Vy_filtered35.flatten())\n",
    "print(r_y1100)"
   ]
  },
  {
   "cell_type": "code",
   "execution_count": 45,
   "id": "cc644a78-c2fc-425c-9b3c-a05b4f7e205d",
   "metadata": {},
   "outputs": [],
   "source": [
    "image18 = cube0[:,:,0,11]\n",
    "image19 = cube1[:,:,0,11]\n",
    "vel_x1200nm, vel_y1200nm, vm1200nm = pyflct.flct(image18, image19, delta_t, pixelsize, sigma, quiet = True)"
   ]
  },
  {
   "cell_type": "code",
   "execution_count": 46,
   "id": "73bf1d97-efee-44a1-96d1-532f00c27250",
   "metadata": {},
   "outputs": [
    {
     "name": "stdout",
     "output_type": "stream",
     "text": [
      "PearsonRResult(statistic=0.7221330226269385, pvalue=0.0)\n"
     ]
    }
   ],
   "source": [
    "r_x1200 = pearsonr(vel_x1200nm.flatten(),Vx_filtered35.flatten())\n",
    "print(r_x1200)"
   ]
  },
  {
   "cell_type": "code",
   "execution_count": 47,
   "id": "fe121745-3cc4-4aa0-bb41-7dd4bf44a75a",
   "metadata": {},
   "outputs": [
    {
     "name": "stdout",
     "output_type": "stream",
     "text": [
      "PearsonRResult(statistic=0.6914691292946744, pvalue=0.0)\n"
     ]
    }
   ],
   "source": [
    "r_y1200 = pearsonr(vel_y1200nm.flatten(),Vy_filtered35.flatten())\n",
    "print(r_y1200)"
   ]
  },
  {
   "cell_type": "code",
   "execution_count": 48,
   "id": "0afa7f2f-8cd0-4b2c-8623-9109a1819b8c",
   "metadata": {},
   "outputs": [],
   "source": [
    "image20 = cube0[:,:,0,12]\n",
    "image21 = cube1[:,:,0,12]\n",
    "vel_x1300nm, vel_y1300nm, vm1300nm = pyflct.flct(image20, image21, delta_t, pixelsize, sigma, quiet = True)"
   ]
  },
  {
   "cell_type": "code",
   "execution_count": 49,
   "id": "277c0e2c-54c4-4fc1-8cb1-dcfef181c2d3",
   "metadata": {},
   "outputs": [
    {
     "name": "stdout",
     "output_type": "stream",
     "text": [
      "PearsonRResult(statistic=0.7264743658692911, pvalue=0.0)\n"
     ]
    }
   ],
   "source": [
    "r_x1300 = pearsonr(vel_x1300nm.flatten(),Vx_filtered35.flatten())\n",
    "print(r_x1300)"
   ]
  },
  {
   "cell_type": "code",
   "execution_count": 50,
   "id": "abc8e3f5-b376-40c0-b0b4-cecdbf882d0e",
   "metadata": {},
   "outputs": [
    {
     "name": "stdout",
     "output_type": "stream",
     "text": [
      "PearsonRResult(statistic=0.697754943048766, pvalue=0.0)\n"
     ]
    }
   ],
   "source": [
    "r_y1300 = pearsonr(vel_y1300nm.flatten(),Vy_filtered35.flatten())\n",
    "print(r_y1300)"
   ]
  },
  {
   "cell_type": "code",
   "execution_count": 54,
   "id": "8191e9ce-b247-4b1e-a0b7-0f3c464461e9",
   "metadata": {},
   "outputs": [],
   "source": [
    "image22 = cube0[:,:,0,13]\n",
    "image23 = cube1[:,:,0,13]\n",
    "vel_x1400nm, vel_y1400nm, vm1400nm = pyflct.flct(image22, image23, delta_t, pixelsize, sigma, quiet = True)"
   ]
  },
  {
   "cell_type": "code",
   "execution_count": 55,
   "id": "92ddcadb-e6c0-497a-94f2-fe0529eaa27e",
   "metadata": {},
   "outputs": [
    {
     "name": "stdout",
     "output_type": "stream",
     "text": [
      "PearsonRResult(statistic=0.7298053910902436, pvalue=0.0)\n"
     ]
    }
   ],
   "source": [
    "r_x1400 = pearsonr(vel_x1400nm.flatten(),Vx_filtered35.flatten())\n",
    "print(r_x1400)"
   ]
  },
  {
   "cell_type": "code",
   "execution_count": 56,
   "id": "3fea620c-c2e0-4fe6-9914-84dc788194be",
   "metadata": {},
   "outputs": [
    {
     "name": "stdout",
     "output_type": "stream",
     "text": [
      "PearsonRResult(statistic=0.7033007196953482, pvalue=0.0)\n"
     ]
    }
   ],
   "source": [
    "r_y1400 = pearsonr(vel_y1400nm.flatten(),Vy_filtered35.flatten())\n",
    "print(r_y1400)"
   ]
  },
  {
   "cell_type": "code",
   "execution_count": 57,
   "id": "2f6e5a9d-df76-4189-b2c7-258f4eab7bc0",
   "metadata": {},
   "outputs": [
    {
     "data": {
      "image/png": "[encoded data removed]",
      "text/plain": [
       "<Figure size 800x400 with 1 Axes>"
      ]
     },
     "metadata": {},
     "output_type": "display_data"
    }
   ],
   "source": [
    "plt.figure(figsize = (8,4))\n",
    "niz = [r_x300[0], r_x400[0], r_x500[0], r_x600[0], r_x700[0], r_x800[0], r_x900[0], r_x1000[0], r_x1100[0], r_x1200[0], r_x1300[0], r_x1400[0]]\n",
    "niz2 = [300, 400, 500, 600, 700, 800, 900, 1000, 1100, 1200, 1300, 1400]\n",
    "plt.suptitle(\"Continuum intensity [Mattias] vs LW intensity\")\n",
    "plt.scatter(niz2, niz, color = \"red\")\n",
    "plt.ylabel(\"Pearson's coefficient for x-component\")\n",
    "plt.xlabel(\"$\\lambda$[nm]\")\n",
    "#m1, b1, *_ = linregress(Vx_FLCT_1200.flatten(), Vx_FLCT_T.flatten())\n",
    "#plt.axline(xy1=(0, b1), slope=m1, label=f'$y = {m1:.3f}x {b1:+.3f}$')\n",
    "#plt.legend()\n",
    "plt.tight_layout()\n",
    "plt.savefig(\"Kontinuum_vs_cont_more\", bbox_inches = 'tight', dpi = 300)"
   ]
  },
  {
   "cell_type": "code",
   "execution_count": 58,
   "id": "ed96c938-ebc2-4c4c-8ba2-3c3b9902de86",
   "metadata": {},
   "outputs": [
    {
     "data": {
      "image/png": "[encoded data removed]",
      "text/plain": [
       "<Figure size 800x400 with 1 Axes>"
      ]
     },
     "metadata": {},
     "output_type": "display_data"
    }
   ],
   "source": [
    "plt.figure(figsize = (8,4))\n",
    "niz = [r_y300[0], r_y400[0], r_y500[0], r_y600[0], r_y700[0], r_y800[0], r_y900[0], r_y1000[0], r_y1100[0], r_y1200[0], r_y1300[0], r_y1400[0]]\n",
    "niz2 = [300, 400, 500, 600, 700, 800, 900, 1000, 1100, 1200, 1300, 1400]\n",
    "plt.suptitle(\"Continuum intensity [Mattias] vs LW intensity\")\n",
    "plt.scatter(niz2, niz, color = \"red\")\n",
    "plt.ylabel(\"Pearson's coefficient for y-component\")\n",
    "plt.xlabel(\"$\\lambda$[nm]\")\n",
    "#m1, b1, *_ = linregress(Vx_FLCT_1200.flatten(), Vx_FLCT_T.flatten())\n",
    "#plt.axline(xy1=(0, b1), slope=m1, label=f'$y = {m1:.3f}x {b1:+.3f}$')\n",
    "#plt.legend()\n",
    "plt.tight_layout()\n",
    "plt.savefig(\"Kontinuum_vs_cont_morey\", bbox_inches = 'tight', dpi = 300)"
   ]
  },
  {
   "cell_type": "code",
   "execution_count": 59,
   "id": "6dee59ca-6bf1-468a-a898-ccfe2b90bfd7",
   "metadata": {},
   "outputs": [],
   "source": [
    "image24 = cube0[:,:,0,14]\n",
    "image25 = cube1[:,:,0,14]\n",
    "vel_x1500nm, vel_y1500nm, vm1500nm = pyflct.flct(image24, image25, delta_t, pixelsize, sigma, quiet = True)"
   ]
  },
  {
   "cell_type": "code",
   "execution_count": 60,
   "id": "bc4afbbe-38d8-4b50-874c-f9480b33673c",
   "metadata": {},
   "outputs": [
    {
     "name": "stdout",
     "output_type": "stream",
     "text": [
      "PearsonRResult(statistic=0.7327664498797719, pvalue=0.0)\n"
     ]
    }
   ],
   "source": [
    "r_x1500 = pearsonr(vel_x1500nm.flatten(),Vx_filtered35.flatten())\n",
    "print(r_x1500)"
   ]
  },
  {
   "cell_type": "code",
   "execution_count": 61,
   "id": "96854efb-350a-4fd4-8f63-8b7e49910801",
   "metadata": {},
   "outputs": [
    {
     "name": "stdout",
     "output_type": "stream",
     "text": [
      "PearsonRResult(statistic=0.7038579772135437, pvalue=0.0)\n"
     ]
    }
   ],
   "source": [
    "r_y1500 = pearsonr(vel_y1500nm.flatten(),Vy_filtered35.flatten())\n",
    "print(r_y1500)"
   ]
  },
  {
   "cell_type": "code",
   "execution_count": 62,
   "id": "ee3e1c4a-6924-4ac1-8a3d-b30b00fa120c",
   "metadata": {},
   "outputs": [],
   "source": [
    "image26 = cube0[:,:,0,15]\n",
    "image27 = cube1[:,:,0,15]\n",
    "vel_x1600nm, vel_y1600nm, vm1600nm = pyflct.flct(image26, image27, delta_t, pixelsize, sigma, quiet = True)"
   ]
  },
  {
   "cell_type": "code",
   "execution_count": 63,
   "id": "9c7041da-ea3f-4cac-8544-aa39749e3206",
   "metadata": {},
   "outputs": [
    {
     "name": "stdout",
     "output_type": "stream",
     "text": [
      "PearsonRResult(statistic=0.7330296192424771, pvalue=0.0)\n"
     ]
    }
   ],
   "source": [
    "r_x1600 = pearsonr(vel_x1600nm.flatten(),Vx_filtered35.flatten())\n",
    "print(r_x1600)"
   ]
  },
  {
   "cell_type": "code",
   "execution_count": 64,
   "id": "a268fb7b-330a-43f5-93e3-bb2d8703a524",
   "metadata": {},
   "outputs": [
    {
     "name": "stdout",
     "output_type": "stream",
     "text": [
      "PearsonRResult(statistic=0.7057568964305585, pvalue=0.0)\n"
     ]
    }
   ],
   "source": [
    "r_y1600 = pearsonr(vel_y1600nm.flatten(),Vy_filtered35.flatten())\n",
    "print(r_y1600)"
   ]
  },
  {
   "cell_type": "code",
   "execution_count": 65,
   "id": "5fb9ebd3-95b1-46ae-9e04-9af2418110c3",
   "metadata": {},
   "outputs": [],
   "source": [
    "image28 = cube0[:,:,0,16]\n",
    "image29 = cube1[:,:,0,16]\n",
    "vel_x1700nm, vel_y1700nm, vm1700nm = pyflct.flct(image28, image29, delta_t, pixelsize, sigma, quiet = True)"
   ]
  },
  {
   "cell_type": "code",
   "execution_count": 66,
   "id": "bcc6b7a9-0866-4e62-bbca-a0099aab4daa",
   "metadata": {},
   "outputs": [
    {
     "name": "stdout",
     "output_type": "stream",
     "text": [
      "PearsonRResult(statistic=0.7330042067029847, pvalue=0.0)\n"
     ]
    }
   ],
   "source": [
    "r_x1700 = pearsonr(vel_x1700nm.flatten(),Vx_filtered35.flatten())\n",
    "print(r_x1700)"
   ]
  },
  {
   "cell_type": "code",
   "execution_count": 67,
   "id": "6a2bee79-b2ef-4cd6-ab3e-b1bd2b87aead",
   "metadata": {},
   "outputs": [
    {
     "name": "stdout",
     "output_type": "stream",
     "text": [
      "PearsonRResult(statistic=0.7074268029659723, pvalue=0.0)\n"
     ]
    }
   ],
   "source": [
    "r_y1700 = pearsonr(vel_y1700nm.flatten(),Vy_filtered35.flatten())\n",
    "print(r_y1700)"
   ]
  },
  {
   "cell_type": "code",
   "execution_count": 68,
   "id": "48f3a5fe-a1fa-4c61-bb7d-3acf1000406a",
   "metadata": {},
   "outputs": [],
   "source": [
    "image30 = cube0[:,:,0,17]\n",
    "image31 = cube1[:,:,0,17]\n",
    "vel_x1800nm, vel_y1800nm, vm1800nm = pyflct.flct(image30, image31, delta_t, pixelsize, sigma, quiet = True)"
   ]
  },
  {
   "cell_type": "code",
   "execution_count": 69,
   "id": "964b33f1-1efa-4c76-95af-029a3bda59a6",
   "metadata": {},
   "outputs": [
    {
     "name": "stdout",
     "output_type": "stream",
     "text": [
      "PearsonRResult(statistic=0.7299339171636194, pvalue=0.0)\n"
     ]
    }
   ],
   "source": [
    "r_x1800 = pearsonr(vel_x1800nm.flatten(),Vx_filtered35.flatten())\n",
    "print(r_x1800)"
   ]
  },
  {
   "cell_type": "code",
   "execution_count": 70,
   "id": "ff627800-a9e9-45ed-8d84-ff5c8a3be4ff",
   "metadata": {},
   "outputs": [
    {
     "name": "stdout",
     "output_type": "stream",
     "text": [
      "PearsonRResult(statistic=0.7078028118146474, pvalue=0.0)\n"
     ]
    }
   ],
   "source": [
    "r_y1800 = pearsonr(vel_y1800nm.flatten(),Vy_filtered35.flatten())\n",
    "print(r_y1800)"
   ]
  },
  {
   "cell_type": "code",
   "execution_count": 71,
   "id": "4de14709-d688-4283-ae1e-e9026481affd",
   "metadata": {},
   "outputs": [],
   "source": [
    "image32 = cube0[:,:,0,18]\n",
    "image33 = cube1[:,:,0,18]\n",
    "vel_x1900nm, vel_y1900nm, vm1900nm = pyflct.flct(image32, image33, delta_t, pixelsize, sigma, quiet = True)"
   ]
  },
  {
   "cell_type": "code",
   "execution_count": 72,
   "id": "f9d31f77-5aa4-4e79-aa57-f5776a2f9b55",
   "metadata": {},
   "outputs": [
    {
     "name": "stdout",
     "output_type": "stream",
     "text": [
      "PearsonRResult(statistic=0.07728418932356033, pvalue=0.0)\n"
     ]
    }
   ],
   "source": [
    "r_x1900 = pearsonr(vel_x1900nm.flatten(),Vx_filtered35.flatten())\n",
    "print(r_x1900)"
   ]
  },
  {
   "cell_type": "code",
   "execution_count": 73,
   "id": "17bb3eee-a46f-4ec2-aaad-3cfac912bd97",
   "metadata": {},
   "outputs": [
    {
     "name": "stdout",
     "output_type": "stream",
     "text": [
      "PearsonRResult(statistic=0.21472003601662956, pvalue=0.0)\n"
     ]
    }
   ],
   "source": [
    "r_y1900 = pearsonr(vel_y1900nm.flatten(),Vy_filtered35.flatten())\n",
    "print(r_y1900)"
   ]
  },
  {
   "cell_type": "code",
   "execution_count": 74,
   "id": "7d675264-03d5-4670-ad10-3f7acd7887c5",
   "metadata": {},
   "outputs": [],
   "source": [
    "image34 = cube0[:,:,0,19]\n",
    "image35 = cube1[:,:,0,19]\n",
    "vel_x2000nm, vel_y2000nm, vm2000nm = pyflct.flct(image34, image35, delta_t, pixelsize, sigma, quiet = True)"
   ]
  },
  {
   "cell_type": "code",
   "execution_count": 75,
   "id": "607eab83-b080-4f3c-9308-0702ac7f9dda",
   "metadata": {},
   "outputs": [
    {
     "name": "stdout",
     "output_type": "stream",
     "text": [
      "PearsonRResult(statistic=0.7327643259556182, pvalue=0.0)\n"
     ]
    }
   ],
   "source": [
    "r_x2000 = pearsonr(vel_x2000nm.flatten(),Vx_filtered35.flatten())\n",
    "print(r_x2000)"
   ]
  },
  {
   "cell_type": "code",
   "execution_count": 76,
   "id": "b7757e5b-2d06-4013-8a7a-11be940ac9a1",
   "metadata": {},
   "outputs": [
    {
     "name": "stdout",
     "output_type": "stream",
     "text": [
      "PearsonRResult(statistic=0.7108263313079322, pvalue=0.0)\n"
     ]
    }
   ],
   "source": [
    "r_y2000 = pearsonr(vel_y2000nm.flatten(),Vy_filtered35.flatten())\n",
    "print(r_y2000)"
   ]
  },
  {
   "cell_type": "code",
   "execution_count": 77,
   "id": "19f730c2-cae7-447e-940a-e4f5db665d7c",
   "metadata": {},
   "outputs": [],
   "source": [
    "image36 = cube0[:,:,0,20]\n",
    "image37 = cube1[:,:,0,20]\n",
    "vel_x2100nm, vel_y2100nm, vm2100nm = pyflct.flct(image36, image37, delta_t, pixelsize, sigma, quiet = True)"
   ]
  },
  {
   "cell_type": "code",
   "execution_count": 78,
   "id": "17d3a1f5-b283-4b89-bca6-1dd7e959c9b2",
   "metadata": {},
   "outputs": [
    {
     "name": "stdout",
     "output_type": "stream",
     "text": [
      "PearsonRResult(statistic=0.7320753295569713, pvalue=0.0)\n"
     ]
    }
   ],
   "source": [
    "r_x2100 = pearsonr(vel_x2100nm.flatten(),Vx_filtered35.flatten())\n",
    "print(r_x2100)"
   ]
  },
  {
   "cell_type": "code",
   "execution_count": 79,
   "id": "ffa33161-5a5c-46ac-9690-13e33f31b5a6",
   "metadata": {},
   "outputs": [
    {
     "name": "stdout",
     "output_type": "stream",
     "text": [
      "PearsonRResult(statistic=0.7111141113332878, pvalue=0.0)\n"
     ]
    }
   ],
   "source": [
    "r_y2100 = pearsonr(vel_y2100nm.flatten(),Vy_filtered35.flatten())\n",
    "print(r_y2100)"
   ]
  },
  {
   "cell_type": "code",
   "execution_count": 83,
   "id": "44d193cb-35ec-4e76-a1dc-5a4b6da5a687",
   "metadata": {},
   "outputs": [
    {
     "data": {
      "image/png": "[encoded data removed]",
      "text/plain": [
       "<Figure size 800x400 with 1 Axes>"
      ]
     },
     "metadata": {},
     "output_type": "display_data"
    }
   ],
   "source": [
    "plt.figure(figsize = (8,4))\n",
    "niz = [r_x300[0], r_x400[0], r_x500[0], r_x600[0], r_x700[0], r_x800[0], r_x900[0], r_x1000[0], r_x1100[0], r_x1200[0], r_x1300[0], r_x1400[0], r_x1500[0], r_x1600[0], r_x1700[0], r_x1800[0], r_x2000[0], r_x2100[0]]\n",
    "niz2 = [300, 400, 500, 600, 700, 800, 900, 1000, 1100, 1200, 1300, 1400, 1500, 1600, 1700, 1800, 2000, 2100]\n",
    "plt.suptitle(\"Continuum intensity [Mattias] vs LW intensity\")\n",
    "plt.scatter(niz2, niz, color = \"red\")\n",
    "plt.ylabel(\"Pearson's coefficient for x-component\")\n",
    "plt.xlabel(\"$\\lambda$[nm]\")\n",
    "#m1, b1, *_ = linregress(Vx_FLCT_1200.flatten(), Vx_FLCT_T.flatten())\n",
    "#plt.axline(xy1=(0, b1), slope=m1, label=f'$y = {m1:.3f}x {b1:+.3f}$')\n",
    "#plt.legend()\n",
    "plt.tight_layout()\n",
    "plt.savefig(\"Kontinuum_vs_cont_more\", bbox_inches = 'tight', dpi = 300)"
   ]
  },
  {
   "cell_type": "code",
   "execution_count": 85,
   "id": "c85a8e85-1a7e-4a0a-b76e-1857f4ce5346",
   "metadata": {},
   "outputs": [
    {
     "data": {
      "image/png": "[encoded data removed]",
      "text/plain": [
       "<Figure size 800x400 with 1 Axes>"
      ]
     },
     "metadata": {},
     "output_type": "display_data"
    }
   ],
   "source": [
    "plt.figure(figsize = (8,4))\n",
    "niz = [r_y300[0], r_y400[0], r_y500[0], r_y600[0], r_y700[0], r_y800[0], r_y900[0], r_y1000[0], r_y1100[0], r_y1200[0], r_y1300[0], r_y1400[0], r_y1500[0], r_y1600[0], r_y1700[0], r_y1800[0], r_y2000[0], r_y2100[0]]\n",
    "niz2 = [300, 400, 500, 600, 700, 800, 900, 1000, 1100, 1200, 1300, 1400, 1500, 1600, 1700, 1800, 2000, 2100]\n",
    "plt.suptitle(\"Continuum intensity [Mattias] vs LW intensity\")\n",
    "plt.scatter(niz2, niz, color = \"red\")\n",
    "plt.ylabel(\"Pearson's coefficient for y-component\")\n",
    "plt.xlabel(\"$\\lambda$[nm]\")\n",
    "#m1, b1, *_ = linregress(Vx_FLCT_1200.flatten(), Vx_FLCT_T.flatten())\n",
    "#plt.axline(xy1=(0, b1), slope=m1, label=f'$y = {m1:.3f}x {b1:+.3f}$')\n",
    "#plt.legend()\n",
    "plt.tight_layout()\n",
    "plt.savefig(\"Kontinuum_vs_cont_morey\", bbox_inches = 'tight', dpi = 300)"
   ]
  },
  {
   "cell_type": "code",
   "execution_count": 86,
   "id": "b1293ecb-c0fa-4654-b6f5-5df036275de0",
   "metadata": {},
   "outputs": [],
   "source": [
    "# 1900 nm is not good or has some coding error"
   ]
  },
  {
   "cell_type": "code",
   "execution_count": null,
   "id": "20e4c26d-054b-4921-95b8-4bc1cdf183a2",
   "metadata": {},
   "outputs": [],
   "source": []
  }
 ],
 "metadata": {
  "kernelspec": {
   "display_name": "Python 3 (ipykernel)",
   "language": "python",
   "name": "python3"
  },
  "language_info": {
   "codemirror_mode": {
    "name": "ipython",
    "version": 3
   },
   "file_extension": ".py",
   "mimetype": "text/x-python",
   "name": "python",
   "nbconvert_exporter": "python",
   "pygments_lexer": "ipython3",
   "version": "3.9.19"
  }
 },
 "nbformat": 4,
 "nbformat_minor": 5
}
