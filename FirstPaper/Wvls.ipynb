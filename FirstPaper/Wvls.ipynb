{
 "cells": [
  {
   "cell_type": "code",
   "execution_count": 1,
   "id": "043c9e4b-037b-4af1-9ef1-d1831f3ada81",
   "metadata": {},
   "outputs": [],
   "source": [
    "import numpy as np\n",
    "import matplotlib.pyplot as plt\n",
    "import muram as mio\n",
    "from astropy.io import fits\n",
    "import pyflct"
   ]
  },
  {
   "cell_type": "code",
   "execution_count": 2,
   "id": "e33a2fc7-16ca-4a5d-9bde-6d31b0aacdb1",
   "metadata": {},
   "outputs": [],
   "source": [
    "from matplotlib import font_manager\n",
    "import matplotlib as mpl\n",
    "font_path = '/home/flow/.fonts/cmunrm.ttf'  # Your font path goes here\n",
    "#font_path = '/usr/share/fonts/opentype/urw-base35/NimbusRoman-Italic.otf'\n",
    "font_manager.fontManager.addfont(font_path)\n",
    "prop = font_manager.FontProperties(fname=font_path)\n",
    "mpl.rcParams[\"font.size\"] = 12\n",
    "plt.rcParams['font.family'] = 'sans-serif'\n",
    "plt.rcParams['font.sans-serif'] = prop.get_name()\n",
    "plt.rc('axes', unicode_minus=False)"
   ]
  },
  {
   "cell_type": "markdown",
   "id": "a2f789db-fc5b-414b-bd1f-764a34f23f1d",
   "metadata": {},
   "source": [
    "<h1>17. 10. 2024.</h1>"
   ]
  },
  {
   "cell_type": "code",
   "execution_count": 35,
   "id": "f16a2bd9-ae82-4553-a05b-f3d54cd8fad1",
   "metadata": {},
   "outputs": [],
   "source": [
    "cube0 = fits.open(\"0_lwsynth_100.0.fits\")[0].data\n",
    "cube1 = fits.open(\"150_lwsynth_100.0.fits\")[0].data"
   ]
  },
  {
   "cell_type": "code",
   "execution_count": 36,
   "id": "549f2288-887c-4344-b102-b3c8790355f1",
   "metadata": {},
   "outputs": [],
   "source": [
    "delta_t = 10.0 * 3\n",
    "pixelsize = 16.0\n",
    "sigma = 1200.0 / 1.665 / pixelsize"
   ]
  },
  {
   "cell_type": "code",
   "execution_count": 37,
   "id": "dad21050-09e7-4d23-bb3d-6ade526753d1",
   "metadata": {},
   "outputs": [
    {
     "data": {
      "text/plain": [
       "(1536, 1536, 1, 102)"
      ]
     },
     "execution_count": 37,
     "metadata": {},
     "output_type": "execute_result"
    }
   ],
   "source": [
    "np.shape(cube0)"
   ]
  },
  {
   "cell_type": "code",
   "execution_count": 38,
   "id": "338eed05-91df-4276-888a-52bf34bdc496",
   "metadata": {},
   "outputs": [],
   "source": [
    "cb0 = fits.open(\"0_lwsynth_100.0.fits\")[1].data\n",
    "cb1 = fits.open(\"150_lwsynth_100.0.fits\")[1].data"
   ]
  },
  {
   "cell_type": "code",
   "execution_count": 39,
   "id": "5795e509-ab05-4663-9ceb-c238c4b4e21e",
   "metadata": {},
   "outputs": [
    {
     "name": "stdout",
     "output_type": "stream",
     "text": [
      "[ 100.      200.      300.      400.      500.      600.      700.\n",
      "  800.      900.     1000.     1100.     1200.     1300.     1400.\n",
      " 1500.     1600.     1700.     1800.     1900.     2000.     2100.\n",
      "  525.      525.0005  525.001   525.0015  525.002   525.0025  525.003\n",
      "  525.0035  525.004   525.0045  525.005   525.0055  525.006   525.0065\n",
      "  525.007   525.0075  525.008   525.0085  525.009   525.0095  525.01\n",
      "  525.0105  525.011   525.0115  525.012   525.0125  525.013   525.0135\n",
      "  525.014   525.0145  525.015   525.0155  525.016   525.0165  525.017\n",
      "  525.0175  525.018   525.0185  525.019   525.0195  525.02    525.0205\n",
      "  525.021   525.0215  525.022   525.0225  525.023   525.0235  525.024\n",
      "  525.0245  525.025   525.0255  525.026   525.0265  525.027   525.0275\n",
      "  525.028   525.0285  525.029   525.0295  525.03    525.0305  525.031\n",
      "  525.0315  525.032   525.0325  525.033   525.0335  525.034   525.0345\n",
      "  525.035   525.0355  525.036   525.0365  525.037   525.0375  525.038\n",
      "  525.0385  525.039   525.0395  525.04  ]\n"
     ]
    }
   ],
   "source": [
    "print(cb0)"
   ]
  },
  {
   "cell_type": "code",
   "execution_count": 54,
   "id": "9a3dc11d-75f2-4b21-b365-16c5d78e98ad",
   "metadata": {},
   "outputs": [
    {
     "name": "stdout",
     "output_type": "stream",
     "text": [
      "[2.13831538e-19 2.58169860e-11 7.60927471e-09 2.05906411e-08\n",
      " 2.83626945e-08 3.33335891e-08 3.60825189e-08 3.71997129e-08\n",
      " 3.74386439e-08 3.70582187e-08 3.63260398e-08 3.55661213e-08\n",
      " 3.48407586e-08 3.41960419e-08 3.37276386e-08 3.24582140e-08\n",
      " 3.01268309e-08 2.76137715e-08 2.53410840e-08 2.33268870e-08\n",
      " 2.15464726e-08 2.98399624e-08 2.98384325e-08 2.98367894e-08\n",
      " 2.98350217e-08 2.98331165e-08 2.98310593e-08 2.98288333e-08\n",
      " 2.98264192e-08 2.98237951e-08 2.98209354e-08 2.98178107e-08\n",
      " 2.98143869e-08 2.98106238e-08 2.98064712e-08 2.98018619e-08\n",
      " 2.97966965e-08 2.97908145e-08 2.97839501e-08 2.97756819e-08\n",
      " 2.97653987e-08 2.97523329e-08 2.97357306e-08 2.97152564e-08\n",
      " 2.96915248e-08 2.96663504e-08 2.96419741e-08 2.96192327e-08\n",
      " 2.95956678e-08 2.95645620e-08 2.95145104e-08 2.94270860e-08\n",
      " 2.92705392e-08 2.89904673e-08 2.85030863e-08 2.77012344e-08\n",
      " 2.64796966e-08 2.47647431e-08 2.25118134e-08 1.96857427e-08\n",
      " 1.63525234e-08 1.28970787e-08 9.98820056e-09 8.03784158e-09\n",
      " 6.90694634e-09 6.26694475e-09 5.90093284e-09 5.70855954e-09\n",
      " 5.65584742e-09 5.76400862e-09 6.11268256e-09 6.84197196e-09\n",
      " 8.19390210e-09 1.05500667e-08 1.41110980e-08 1.83487084e-08\n",
      " 2.22545152e-08 2.51701185e-08 2.70514842e-08 2.81640668e-08\n",
      " 2.88017862e-08 2.91700212e-08 2.93873979e-08 2.95175407e-08\n",
      " 2.95959493e-08 2.96443995e-08 2.96763626e-08 2.96995174e-08\n",
      " 2.97177549e-08 2.97328938e-08 2.97458060e-08 2.97569755e-08\n",
      " 2.97667243e-08 2.97752925e-08 2.97828685e-08 2.97896034e-08\n",
      " 2.97956201e-08 2.98010194e-08 2.98058846e-08 2.98102854e-08\n",
      " 2.98142802e-08 2.98179184e-08]\n"
     ]
    }
   ],
   "source": [
    "print(cube0[0][0][0][:])"
   ]
  },
  {
   "cell_type": "code",
   "execution_count": 43,
   "id": "00451928-4c1a-472d-ba6e-fa2d467ae682",
   "metadata": {},
   "outputs": [
    {
     "name": "stdout",
     "output_type": "stream",
     "text": [
      "2.1994011943818395e-08\n"
     ]
    }
   ],
   "source": [
    "print(cube1[0][0][0][20])"
   ]
  },
  {
   "cell_type": "code",
   "execution_count": 49,
   "id": "eb7e9879-3526-4b4f-ab23-b0077e67b1b7",
   "metadata": {},
   "outputs": [],
   "source": [
    "cube = fits.open(\"0_lwsynth_100.0.fits\")[0]"
   ]
  },
  {
   "cell_type": "code",
   "execution_count": 55,
   "id": "6982b3fa-369d-439b-8e02-bf34a45942c9",
   "metadata": {},
   "outputs": [],
   "source": [
    "image0 = cube0[:,:,0,2]\n",
    "image1 = cube1[:,:,0,2]\n",
    "vel_x300nm, vel_y300nm, vm300nm = pyflct.flct(image0, image1, delta_t, pixelsize, sigma, quiet = True)"
   ]
  },
  {
   "cell_type": "code",
   "execution_count": 56,
   "id": "4a688b3a-3a2e-42dd-8d30-c613103bb36b",
   "metadata": {},
   "outputs": [],
   "source": [
    "image2 = cube0[:,:,0,3]\n",
    "image3 = cube1[:,:,0,3]\n",
    "vel_x400nm, vel_y400nm, vm400nm = pyflct.flct(image2, image3, delta_t, pixelsize, sigma, quiet = True)"
   ]
  },
  {
   "cell_type": "code",
   "execution_count": 57,
   "id": "8bf97f1d-fabb-4bd3-94dc-798d24d5da6a",
   "metadata": {},
   "outputs": [],
   "source": [
    "image4 = cube0[:,:,0,4]\n",
    "image5 = cube1[:,:,0,4]\n",
    "vel_x500nm, vel_y500nm, vm500nm = pyflct.flct(image4, image5, delta_t, pixelsize, sigma, quiet = True)"
   ]
  },
  {
   "cell_type": "code",
   "execution_count": 58,
   "id": "08bf791f-6db9-4775-a5f5-ab15da9ac670",
   "metadata": {},
   "outputs": [],
   "source": [
    "image6 = cube0[:,:,0,5]\n",
    "image7 = cube1[:,:,0,5]\n",
    "vel_x600nm, vel_y600nm, vm600nm = pyflct.flct(image6, image7, delta_t, pixelsize, sigma, quiet = True)"
   ]
  },
  {
   "cell_type": "code",
   "execution_count": 59,
   "id": "013e733c-e6ca-448b-9dad-851a326b7660",
   "metadata": {},
   "outputs": [],
   "source": [
    "image8 = cube0[:,:,0,6]\n",
    "image9 = cube1[:,:,0,6]\n",
    "vel_x700nm, vel_y700nm, vm700nm = pyflct.flct(image8, image9, delta_t, pixelsize, sigma, quiet = True)"
   ]
  },
  {
   "cell_type": "code",
   "execution_count": 60,
   "id": "06a2ddaa-48e4-44bf-959a-94e419db9cf3",
   "metadata": {},
   "outputs": [],
   "source": [
    "image10 = cube0[:,:,0,7]\n",
    "image11 = cube1[:,:,0,7]\n",
    "vel_x800nm, vel_y800nm, vm800nm = pyflct.flct(image10, image11, delta_t, pixelsize, sigma, quiet = True)"
   ]
  },
  {
   "cell_type": "code",
   "execution_count": 61,
   "id": "ca984075-ffd5-4baa-8dce-a02d065e4d39",
   "metadata": {},
   "outputs": [],
   "source": [
    "Vx = fits.open(\"Velocities_TAU_0_1.fits\")[1].data # Vy from Velocities.fits as originally thought\n",
    "Vy = fits.open(\"Velocities_TAU_0_1.fits\")[0].data # Vx from Velocities.fits as originally thought\n",
    "Vx = Vx.transpose(0, 2, 1)\n",
    "Vy = Vy.transpose(0, 2, 1)"
   ]
  },
  {
   "cell_type": "code",
   "execution_count": 94,
   "id": "e298205d-f5b5-4ca7-b03a-b3f53bff4de7",
   "metadata": {},
   "outputs": [],
   "source": [
    "Vx_1 = Vx[0]/1E5\n",
    "Vx_2 = Vx[1]/1E5\n",
    "\n",
    "Vy_1 = Vy[0]/1E5\n",
    "Vy_2 = Vy[1]/1E5"
   ]
  },
  {
   "cell_type": "code",
   "execution_count": 63,
   "id": "dccef7cc-00e2-4a9b-8cb3-dcc60802219a",
   "metadata": {},
   "outputs": [],
   "source": [
    "from scipy.ndimage import gaussian_filter\n",
    "from scipy.stats import pearsonr"
   ]
  },
  {
   "cell_type": "code",
   "execution_count": 95,
   "id": "30426e9b-0c2b-4a45-8a8a-909cff45cc2b",
   "metadata": {},
   "outputs": [],
   "source": [
    "Vx_bin = (Vx_1 + Vx_2)/2\n",
    "Vy_bin = (Vy_1 + Vy_2)/2"
   ]
  },
  {
   "cell_type": "code",
   "execution_count": 96,
   "id": "3a3f1d49-0631-4b2c-93bd-9b55657b5bb3",
   "metadata": {},
   "outputs": [],
   "source": [
    "Vx_filtered35 = gaussian_filter(Vx_bin, 35, mode = \"wrap\")\n",
    "Vy_filtered35 = gaussian_filter(Vy_bin, 35, mode = \"wrap\")"
   ]
  },
  {
   "cell_type": "code",
   "execution_count": 97,
   "id": "6309c689-fa5d-47c7-a42a-3696dd63f1ff",
   "metadata": {},
   "outputs": [
    {
     "name": "stdout",
     "output_type": "stream",
     "text": [
      "PearsonRResult(statistic=0.7183497302236811, pvalue=0.0)\n"
     ]
    }
   ],
   "source": [
    "r_x300 = pearsonr(vel_x300nm.flatten(),Vx_filtered35.flatten())\n",
    "print(r_x300)"
   ]
  },
  {
   "cell_type": "code",
   "execution_count": 98,
   "id": "a157e3c2-cc5c-4eb6-982e-a26c9ffeaeea",
   "metadata": {},
   "outputs": [
    {
     "name": "stdout",
     "output_type": "stream",
     "text": [
      "PearsonRResult(statistic=0.6901280395607198, pvalue=0.0)\n"
     ]
    }
   ],
   "source": [
    "r_y300 = pearsonr(vel_y300nm.flatten(),Vy_filtered35.flatten())\n",
    "print(r_y300)"
   ]
  },
  {
   "cell_type": "code",
   "execution_count": 99,
   "id": "d50b766c-b188-4eaa-afbf-0e28cf239ccf",
   "metadata": {},
   "outputs": [
    {
     "name": "stdout",
     "output_type": "stream",
     "text": [
      "PearsonRResult(statistic=0.7213862303874219, pvalue=0.0)\n"
     ]
    }
   ],
   "source": [
    "r_x400 = pearsonr(vel_x400nm.flatten(),Vx_filtered35.flatten())\n",
    "print(r_x400)"
   ]
  },
  {
   "cell_type": "code",
   "execution_count": 100,
   "id": "0a03a350-730a-4bd8-8f7f-19c5ac22fb51",
   "metadata": {},
   "outputs": [
    {
     "name": "stdout",
     "output_type": "stream",
     "text": [
      "PearsonRResult(statistic=0.6874819412721505, pvalue=0.0)\n"
     ]
    }
   ],
   "source": [
    "r_y400 = pearsonr(vel_y400nm.flatten(),Vy_filtered35.flatten())\n",
    "print(r_y400)"
   ]
  },
  {
   "cell_type": "code",
   "execution_count": 101,
   "id": "5ce43378-ad67-443b-acaa-8056910057b4",
   "metadata": {},
   "outputs": [
    {
     "name": "stdout",
     "output_type": "stream",
     "text": [
      "PearsonRResult(statistic=0.7243353275187453, pvalue=0.0)\n"
     ]
    }
   ],
   "source": [
    "r_x500 = pearsonr(vel_x500nm.flatten(),Vx_filtered35.flatten())\n",
    "print(r_x500)"
   ]
  },
  {
   "cell_type": "code",
   "execution_count": 102,
   "id": "0776be09-fc10-4599-9a3c-f39bc50d07e9",
   "metadata": {},
   "outputs": [
    {
     "name": "stdout",
     "output_type": "stream",
     "text": [
      "PearsonRResult(statistic=0.6905824984374691, pvalue=0.0)\n"
     ]
    }
   ],
   "source": [
    "r_y500 = pearsonr(vel_y500nm.flatten(),Vy_filtered35.flatten())\n",
    "print(r_y500)"
   ]
  },
  {
   "cell_type": "code",
   "execution_count": 103,
   "id": "994453ea-c269-48f9-abe6-6e2dcd816689",
   "metadata": {},
   "outputs": [
    {
     "name": "stdout",
     "output_type": "stream",
     "text": [
      "PearsonRResult(statistic=0.7215654532553466, pvalue=0.0)\n"
     ]
    }
   ],
   "source": [
    "r_x600 = pearsonr(vel_x600nm.flatten(),Vx_filtered35.flatten())\n",
    "print(r_x600)"
   ]
  },
  {
   "cell_type": "code",
   "execution_count": 104,
   "id": "3066df8a-297c-4278-8cdb-7f27374af1a3",
   "metadata": {},
   "outputs": [
    {
     "name": "stdout",
     "output_type": "stream",
     "text": [
      "PearsonRResult(statistic=0.6878478647717526, pvalue=0.0)\n"
     ]
    }
   ],
   "source": [
    "r_y600 = pearsonr(vel_y600nm.flatten(),Vy_filtered35.flatten())\n",
    "print(r_y600)"
   ]
  },
  {
   "cell_type": "code",
   "execution_count": 105,
   "id": "7be859f7-201f-44fc-820c-a2f4220f332d",
   "metadata": {},
   "outputs": [
    {
     "name": "stdout",
     "output_type": "stream",
     "text": [
      "PearsonRResult(statistic=0.7152795217653685, pvalue=0.0)\n"
     ]
    }
   ],
   "source": [
    "r_x700 = pearsonr(vel_x700nm.flatten(),Vx_filtered35.flatten())\n",
    "print(r_x700)"
   ]
  },
  {
   "cell_type": "code",
   "execution_count": 106,
   "id": "ca593870-a31a-4b93-bbd9-d77cd5fe2a4e",
   "metadata": {},
   "outputs": [
    {
     "name": "stdout",
     "output_type": "stream",
     "text": [
      "PearsonRResult(statistic=0.6818698534282361, pvalue=0.0)\n"
     ]
    }
   ],
   "source": [
    "r_y700 = pearsonr(vel_y700nm.flatten(),Vy_filtered35.flatten())\n",
    "print(r_y700)"
   ]
  },
  {
   "cell_type": "code",
   "execution_count": 107,
   "id": "f64c5cbe-abca-48bf-b047-9957c668c0dc",
   "metadata": {},
   "outputs": [
    {
     "name": "stdout",
     "output_type": "stream",
     "text": [
      "PearsonRResult(statistic=0.7082173692914563, pvalue=0.0)\n"
     ]
    }
   ],
   "source": [
    "r_x800 = pearsonr(vel_x800nm.flatten(),Vx_filtered35.flatten())\n",
    "print(r_x800)"
   ]
  },
  {
   "cell_type": "code",
   "execution_count": 108,
   "id": "f8929bb9-99fd-46c2-8fbc-03fbb76fc59f",
   "metadata": {},
   "outputs": [
    {
     "name": "stdout",
     "output_type": "stream",
     "text": [
      "PearsonRResult(statistic=0.675498525376965, pvalue=0.0)\n"
     ]
    }
   ],
   "source": [
    "r_y800 = pearsonr(vel_y800nm.flatten(),Vy_filtered35.flatten())\n",
    "print(r_y800)"
   ]
  },
  {
   "cell_type": "code",
   "execution_count": 109,
   "id": "57b53945-91ef-40a9-b25c-e2b27e53aaea",
   "metadata": {},
   "outputs": [
    {
     "data": {
      "image/png": "[encoded data removed]",
      "text/plain": [
       "<Figure size 800x400 with 1 Axes>"
      ]
     },
     "metadata": {},
     "output_type": "display_data"
    }
   ],
   "source": [
    "plt.figure(figsize = (8,4))\n",
    "niz = [r_x300[0], r_x400[0], r_x500[0], r_x600[0], r_x700[0], r_x800[0]]\n",
    "niz2 = [300, 400, 500, 600, 700, 800]\n",
    "plt.suptitle(\"Continuum intensity [Mattias] vs LW intensity\")\n",
    "plt.scatter(niz2, niz, color = \"red\")\n",
    "plt.ylabel(\"Pearson's coefficient for x-component\")\n",
    "plt.xlabel(\"$\\lambda$[nm]\")\n",
    "#m1, b1, *_ = linregress(Vx_FLCT_1200.flatten(), Vx_FLCT_T.flatten())\n",
    "#plt.axline(xy1=(0, b1), slope=m1, label=f'$y = {m1:.3f}x {b1:+.3f}$')\n",
    "#plt.legend()\n",
    "plt.tight_layout()\n",
    "plt.savefig(\"Kontinuum_vs_cont\", bbox_inches = 'tight', dpi = 300)"
   ]
  },
  {
   "cell_type": "code",
   "execution_count": null,
   "id": "6a3dbafc-48cb-4b21-bd19-f8be804f35c0",
   "metadata": {},
   "outputs": [],
   "source": []
  }
 ],
 "metadata": {
  "kernelspec": {
   "display_name": "Python 3 (ipykernel)",
   "language": "python",
   "name": "python3"
  },
  "language_info": {
   "codemirror_mode": {
    "name": "ipython",
    "version": 3
   },
   "file_extension": ".py",
   "mimetype": "text/x-python",
   "name": "python",
   "nbconvert_exporter": "python",
   "pygments_lexer": "ipython3",
   "version": "3.9.19"
  }
 },
 "nbformat": 4,
 "nbformat_minor": 5
}
